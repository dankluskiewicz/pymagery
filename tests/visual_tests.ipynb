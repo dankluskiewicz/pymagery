{
 "cells": [
  {
   "cell_type": "code",
   "execution_count": 1,
   "metadata": {},
   "outputs": [
    {
     "ename": "ModuleNotFoundError",
     "evalue": "No module named 'pymagery'",
     "output_type": "error",
     "traceback": [
      "\u001b[0;31m---------------------------------------------------------------------------\u001b[0m",
      "\u001b[0;31mModuleNotFoundError\u001b[0m                       Traceback (most recent call last)",
      "\u001b[0;32m<ipython-input-1-4a87021e06e9>\u001b[0m in \u001b[0;36m<module>\u001b[0;34m\u001b[0m\n\u001b[1;32m      3\u001b[0m \u001b[0;34m\u001b[0m\u001b[0m\n\u001b[1;32m      4\u001b[0m \u001b[0;32mimport\u001b[0m \u001b[0mmatplotlib\u001b[0m\u001b[0;34m.\u001b[0m\u001b[0mpyplot\u001b[0m \u001b[0;32mas\u001b[0m \u001b[0mplt\u001b[0m\u001b[0;34m\u001b[0m\u001b[0;34m\u001b[0m\u001b[0m\n\u001b[0;32m----> 5\u001b[0;31m \u001b[0;32mimport\u001b[0m \u001b[0mpymagery\u001b[0m\u001b[0;34m\u001b[0m\u001b[0;34m\u001b[0m\u001b[0m\n\u001b[0m\u001b[1;32m      6\u001b[0m \u001b[0;34m\u001b[0m\u001b[0m\n\u001b[1;32m      7\u001b[0m \u001b[0;32mimport\u001b[0m \u001b[0mvisual_tests\u001b[0m\u001b[0;34m\u001b[0m\u001b[0;34m\u001b[0m\u001b[0m\n",
      "\u001b[0;31mModuleNotFoundError\u001b[0m: No module named 'pymagery'"
     ]
    }
   ],
   "source": [
    "import ipytest\n",
    "ipytest.autoconfig()\n",
    "\n",
    "import matplotlib.pyplot as plt\n",
    "import pymagery\n",
    "\n",
    "import visual_tests\n"
   ]
  },
  {
   "cell_type": "code",
   "execution_count": null,
   "metadata": {},
   "outputs": [],
   "source": [
    "%%run_pytest[clean] -qq\n",
    "\n",
    "def test_bounding_box(dem):\n",
    "    box = dem.bounding_box\n",
    "    fig, ax = plt.subplots()\n",
    "    dem.plot(ax=ax)\n",
    "    pymagery.utils.plot_geoms([box], ax=ax, linewidth=5)\n",
    "    plt.show()\n",
    "\n",
    "def test_pix_geo_conversion(sb):\n",
    "    pix_locs = [\n",
    "        (1, 1), (2, 3)\n",
    "    ]\n",
    "    geo_locs = [sb.pix_to_geo(i, j) for i, j in pix_locs]\n",
    "\n",
    "    fig, ax = plt.subplots()\n",
    "    sb.plot(ax=ax)\n",
    "    for (i, j), (x, y) in zip(pix_locs, geo_locs):\n",
    "        ax.scatter(x, y)\n",
    "        ax.annotate(f'{i, j}', (x, y))\n",
    "    plt.show()"
   ]
  },
  {
   "cell_type": "code",
   "execution_count": null,
   "metadata": {},
   "outputs": [],
   "source": [
    "%%run_pytest[clean] -qq\n",
    "\n",
    "def test(dem):\n",
    "    fig, ax = dem.plot(cmap=plt.cm.gist_earth)\n",
    "    ax.set_title('test dem sb raster plot')\n",
    "    plt.show()\n",
    "\n",
    "    fig, ax = plt.subplots()\n",
    "    dem.plot(ax=ax)\n",
    "    ax.set_title('test dem sb raster plot w/ user fig, ax')\n",
    "    plt.show()\n",
    "\n",
    "    fig, ax = plt.subplots()\n",
    "    dem.plot(ax=ax, cbar_fig=fig)\n",
    "    ax.set_title('test dem sb raster plot w/ cbar')\n",
    "    plt.show()\n",
    "\n",
    "    fig, ax = plt.subplots()\n",
    "    dem.plot(ax=ax, hs=True)\n",
    "    ax.set_title('test dem sb raster plot w/ hill_shade')\n",
    "    plt.show()\n",
    "    \n",
    "    fig, ax = plt.subplots()\n",
    "    dem = dem.interp()\n",
    "    dem.plot(ax=ax)\n",
    "    ax.set_title('test dem sb raster after interp')\n",
    "    plt.show()"
   ]
  },
  {
   "cell_type": "code",
   "execution_count": null,
   "metadata": {},
   "outputs": [],
   "source": []
  }
 ],
 "metadata": {
  "kernelspec": {
   "display_name": "Python [conda env:pymagery]",
   "language": "python",
   "name": "conda-env-pymagery-py"
  },
  "language_info": {
   "codemirror_mode": {
    "name": "ipython",
    "version": 3
   },
   "file_extension": ".py",
   "mimetype": "text/x-python",
   "name": "python",
   "nbconvert_exporter": "python",
   "pygments_lexer": "ipython3",
   "version": "3.8.6"
  }
 },
 "nbformat": 4,
 "nbformat_minor": 4
}

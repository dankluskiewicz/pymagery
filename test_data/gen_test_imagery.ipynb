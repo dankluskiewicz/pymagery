{
 "cells": [
  {
   "cell_type": "code",
   "execution_count": 1,
   "id": "98f94684",
   "metadata": {},
   "outputs": [
    {
     "name": "stdin",
     "output_type": "stream",
     "text": [
      " ········\n"
     ]
    }
   ],
   "source": [
    "import shapely\n",
    "import geopandas as gpd\n",
    "import os\n",
    "import numpy as np\n",
    "from sentinelsat import SentinelAPI\n",
    "import getpass\n",
    "\n",
    "import pymagery\n",
    "from pymagery import utils\n",
    "from pymagery import context\n",
    "import aoi\n",
    "\n",
    "user = 'dankluskiewicz'\n",
    "pwd = getpass.getpass()\n",
    "api = SentinelAPI(user, pwd, 'https://scihub.copernicus.eu/dhus')"
   ]
  },
  {
   "cell_type": "code",
   "execution_count": 2,
   "id": "8518a3c9",
   "metadata": {},
   "outputs": [
    {
     "name": "stderr",
     "output_type": "stream",
     "text": [
      "/home/dan/Documents/pymagery/pymagery/utils.py:29: UserWarning: Geometry is in a geographic CRS. Results from 'centroid' are likely incorrect. Use 'GeoSeries.to_crs()' to re-project geometries to a projected CRS before this operation.\n",
      "\n",
      "  center = gdf.to_crs('epsg:4326').geometry.centroid.unary_union.centroid\n"
     ]
    },
    {
     "data": {
      "text/html": [
       "<div style=\"width:100%;\"><div style=\"position:relative;width:100%;height:0;padding-bottom:60%;\"><span style=\"color:#565656\">Make this Notebook Trusted to load map: File -> Trust Notebook</span><iframe src=\"about:blank\" style=\"position:absolute;width:100%;height:100%;left:0;top:0;border:none !important;\" data-html=%3C%21DOCTYPE%20html%3E%0A%3Chead%3E%20%20%20%20%0A%20%20%20%20%3Cmeta%20http-equiv%3D%22content-type%22%20content%3D%22text/html%3B%20charset%3DUTF-8%22%20/%3E%0A%20%20%20%20%0A%20%20%20%20%20%20%20%20%3Cscript%3E%0A%20%20%20%20%20%20%20%20%20%20%20%20L_NO_TOUCH%20%3D%20false%3B%0A%20%20%20%20%20%20%20%20%20%20%20%20L_DISABLE_3D%20%3D%20false%3B%0A%20%20%20%20%20%20%20%20%3C/script%3E%0A%20%20%20%20%0A%20%20%20%20%3Cstyle%3Ehtml%2C%20body%20%7Bwidth%3A%20100%25%3Bheight%3A%20100%25%3Bmargin%3A%200%3Bpadding%3A%200%3B%7D%3C/style%3E%0A%20%20%20%20%3Cstyle%3E%23map%20%7Bposition%3Aabsolute%3Btop%3A0%3Bbottom%3A0%3Bright%3A0%3Bleft%3A0%3B%7D%3C/style%3E%0A%20%20%20%20%3Cscript%20src%3D%22https%3A//cdn.jsdelivr.net/npm/leaflet%401.6.0/dist/leaflet.js%22%3E%3C/script%3E%0A%20%20%20%20%3Cscript%20src%3D%22https%3A//code.jquery.com/jquery-1.12.4.min.js%22%3E%3C/script%3E%0A%20%20%20%20%3Cscript%20src%3D%22https%3A//maxcdn.bootstrapcdn.com/bootstrap/3.2.0/js/bootstrap.min.js%22%3E%3C/script%3E%0A%20%20%20%20%3Cscript%20src%3D%22https%3A//cdnjs.cloudflare.com/ajax/libs/Leaflet.awesome-markers/2.0.2/leaflet.awesome-markers.js%22%3E%3C/script%3E%0A%20%20%20%20%3Clink%20rel%3D%22stylesheet%22%20href%3D%22https%3A//cdn.jsdelivr.net/npm/leaflet%401.6.0/dist/leaflet.css%22/%3E%0A%20%20%20%20%3Clink%20rel%3D%22stylesheet%22%20href%3D%22https%3A//maxcdn.bootstrapcdn.com/bootstrap/3.2.0/css/bootstrap.min.css%22/%3E%0A%20%20%20%20%3Clink%20rel%3D%22stylesheet%22%20href%3D%22https%3A//maxcdn.bootstrapcdn.com/bootstrap/3.2.0/css/bootstrap-theme.min.css%22/%3E%0A%20%20%20%20%3Clink%20rel%3D%22stylesheet%22%20href%3D%22https%3A//maxcdn.bootstrapcdn.com/font-awesome/4.6.3/css/font-awesome.min.css%22/%3E%0A%20%20%20%20%3Clink%20rel%3D%22stylesheet%22%20href%3D%22https%3A//cdnjs.cloudflare.com/ajax/libs/Leaflet.awesome-markers/2.0.2/leaflet.awesome-markers.css%22/%3E%0A%20%20%20%20%3Clink%20rel%3D%22stylesheet%22%20href%3D%22https%3A//cdn.jsdelivr.net/gh/python-visualization/folium/folium/templates/leaflet.awesome.rotate.min.css%22/%3E%0A%20%20%20%20%0A%20%20%20%20%20%20%20%20%20%20%20%20%3Cmeta%20name%3D%22viewport%22%20content%3D%22width%3Ddevice-width%2C%0A%20%20%20%20%20%20%20%20%20%20%20%20%20%20%20%20initial-scale%3D1.0%2C%20maximum-scale%3D1.0%2C%20user-scalable%3Dno%22%20/%3E%0A%20%20%20%20%20%20%20%20%20%20%20%20%3Cstyle%3E%0A%20%20%20%20%20%20%20%20%20%20%20%20%20%20%20%20%23map_b29c582d7a1c4e0d9421ee5aa6f9d31f%20%7B%0A%20%20%20%20%20%20%20%20%20%20%20%20%20%20%20%20%20%20%20%20position%3A%20relative%3B%0A%20%20%20%20%20%20%20%20%20%20%20%20%20%20%20%20%20%20%20%20width%3A%20100.0%25%3B%0A%20%20%20%20%20%20%20%20%20%20%20%20%20%20%20%20%20%20%20%20height%3A%20100.0%25%3B%0A%20%20%20%20%20%20%20%20%20%20%20%20%20%20%20%20%20%20%20%20left%3A%200.0%25%3B%0A%20%20%20%20%20%20%20%20%20%20%20%20%20%20%20%20%20%20%20%20top%3A%200.0%25%3B%0A%20%20%20%20%20%20%20%20%20%20%20%20%20%20%20%20%7D%0A%20%20%20%20%20%20%20%20%20%20%20%20%3C/style%3E%0A%20%20%20%20%20%20%20%20%0A%3C/head%3E%0A%3Cbody%3E%20%20%20%20%0A%20%20%20%20%0A%20%20%20%20%20%20%20%20%20%20%20%20%3Cdiv%20class%3D%22folium-map%22%20id%3D%22map_b29c582d7a1c4e0d9421ee5aa6f9d31f%22%20%3E%3C/div%3E%0A%20%20%20%20%20%20%20%20%0A%3C/body%3E%0A%3Cscript%3E%20%20%20%20%0A%20%20%20%20%0A%20%20%20%20%20%20%20%20%20%20%20%20var%20map_b29c582d7a1c4e0d9421ee5aa6f9d31f%20%3D%20L.map%28%0A%20%20%20%20%20%20%20%20%20%20%20%20%20%20%20%20%22map_b29c582d7a1c4e0d9421ee5aa6f9d31f%22%2C%0A%20%20%20%20%20%20%20%20%20%20%20%20%20%20%20%20%7B%0A%20%20%20%20%20%20%20%20%20%20%20%20%20%20%20%20%20%20%20%20center%3A%20%5B47.849999999999994%2C%20-121.5%5D%2C%0A%20%20%20%20%20%20%20%20%20%20%20%20%20%20%20%20%20%20%20%20crs%3A%20L.CRS.EPSG3857%2C%0A%20%20%20%20%20%20%20%20%20%20%20%20%20%20%20%20%20%20%20%20zoom%3A%2012%2C%0A%20%20%20%20%20%20%20%20%20%20%20%20%20%20%20%20%20%20%20%20zoomControl%3A%20true%2C%0A%20%20%20%20%20%20%20%20%20%20%20%20%20%20%20%20%20%20%20%20preferCanvas%3A%20false%2C%0A%20%20%20%20%20%20%20%20%20%20%20%20%20%20%20%20%7D%0A%20%20%20%20%20%20%20%20%20%20%20%20%29%3B%0A%0A%20%20%20%20%20%20%20%20%20%20%20%20%0A%0A%20%20%20%20%20%20%20%20%0A%20%20%20%20%0A%20%20%20%20%20%20%20%20%20%20%20%20var%20tile_layer_f73f0948405b462784600ed0583d988b%20%3D%20L.tileLayer%28%0A%20%20%20%20%20%20%20%20%20%20%20%20%20%20%20%20%22https%3A//server.arcgisonline.com/ArcGIS/rest/services/World_Imagery/MapServer/tile/%7Bz%7D/%7By%7D/%7Bx%7D%22%2C%0A%20%20%20%20%20%20%20%20%20%20%20%20%20%20%20%20%7B%22attribution%22%3A%20%5B%22Tiles%20%5Cu0026copy%3B%20Esri%20%5Cu0026mdash%3B%20Source%3A%20Esri%2C%20i-cubed%2C%20USDA%2C%20USGS%2C%20AEX%2C%20GeoEye%2C%20Getmapping%2C%20Aerogrid%2C%20IGN%2C%20IGP%2C%20UPR-EGP%2C%20and%20the%20GIS%20User%20Community%22%5D%2C%20%22detectRetina%22%3A%20false%2C%20%22maxNativeZoom%22%3A%2018%2C%20%22maxZoom%22%3A%2018%2C%20%22minZoom%22%3A%200%2C%20%22noWrap%22%3A%20false%2C%20%22opacity%22%3A%201%2C%20%22subdomains%22%3A%20%22abc%22%2C%20%22tms%22%3A%20false%7D%0A%20%20%20%20%20%20%20%20%20%20%20%20%29.addTo%28map_b29c582d7a1c4e0d9421ee5aa6f9d31f%29%3B%0A%20%20%20%20%20%20%20%20%0A%20%20%20%20%0A%20%20%20%20%20%20%20%20function%20geo_json_78a0e17fe81641eb81cae66483fc0d98_styler%28feature%29%20%7B%0A%20%20%20%20%20%20%20%20%20%20%20%20switch%28feature.id%29%20%7B%0A%20%20%20%20%20%20%20%20%20%20%20%20%20%20%20%20default%3A%0A%20%20%20%20%20%20%20%20%20%20%20%20%20%20%20%20%20%20%20%20return%20%7B%22color%22%3A%20%22k%22%2C%20%22fillColor%22%3A%20%22orange%22%2C%20%22fillOpacity%22%3A%20%22.2%22%2C%20%22opacity%22%3A%20%221%22%2C%20%22weight%22%3A%20%223%22%7D%3B%0A%20%20%20%20%20%20%20%20%20%20%20%20%7D%0A%20%20%20%20%20%20%20%20%7D%0A%0A%20%20%20%20%20%20%20%20function%20geo_json_78a0e17fe81641eb81cae66483fc0d98_onEachFeature%28feature%2C%20layer%29%20%7B%0A%20%20%20%20%20%20%20%20%20%20%20%20layer.on%28%7B%0A%20%20%20%20%20%20%20%20%20%20%20%20%7D%29%3B%0A%20%20%20%20%20%20%20%20%7D%3B%0A%20%20%20%20%20%20%20%20var%20geo_json_78a0e17fe81641eb81cae66483fc0d98%20%3D%20L.geoJson%28null%2C%20%7B%0A%20%20%20%20%20%20%20%20%20%20%20%20%20%20%20%20onEachFeature%3A%20geo_json_78a0e17fe81641eb81cae66483fc0d98_onEachFeature%2C%0A%20%20%20%20%20%20%20%20%20%20%20%20%0A%20%20%20%20%20%20%20%20%20%20%20%20%20%20%20%20style%3A%20geo_json_78a0e17fe81641eb81cae66483fc0d98_styler%2C%0A%20%20%20%20%20%20%20%20%7D%29%3B%0A%0A%20%20%20%20%20%20%20%20function%20geo_json_78a0e17fe81641eb81cae66483fc0d98_add%20%28data%29%20%7B%0A%20%20%20%20%20%20%20%20%20%20%20%20geo_json_78a0e17fe81641eb81cae66483fc0d98%0A%20%20%20%20%20%20%20%20%20%20%20%20%20%20%20%20.addData%28data%29%0A%20%20%20%20%20%20%20%20%20%20%20%20%20%20%20%20.addTo%28map_b29c582d7a1c4e0d9421ee5aa6f9d31f%29%3B%0A%20%20%20%20%20%20%20%20%7D%0A%20%20%20%20%20%20%20%20%20%20%20%20geo_json_78a0e17fe81641eb81cae66483fc0d98_add%28%7B%22bbox%22%3A%20%5B-121.6%2C%2047.8%2C%20-121.4%2C%2047.9%5D%2C%20%22features%22%3A%20%5B%7B%22bbox%22%3A%20%5B-121.6%2C%2047.8%2C%20-121.4%2C%2047.9%5D%2C%20%22geometry%22%3A%20%7B%22coordinates%22%3A%20%5B%5B%5B-121.4%2C%2047.8%5D%2C%20%5B-121.4%2C%2047.9%5D%2C%20%5B-121.6%2C%2047.9%5D%2C%20%5B-121.6%2C%2047.8%5D%2C%20%5B-121.4%2C%2047.8%5D%5D%5D%2C%20%22type%22%3A%20%22Polygon%22%7D%2C%20%22id%22%3A%20%220%22%2C%20%22properties%22%3A%20%7B%7D%2C%20%22type%22%3A%20%22Feature%22%7D%5D%2C%20%22type%22%3A%20%22FeatureCollection%22%7D%29%3B%0A%0A%20%20%20%20%20%20%20%20%0A%3C/script%3E onload=\"this.contentDocument.open();this.contentDocument.write(    decodeURIComponent(this.getAttribute('data-html')));this.contentDocument.close();\" allowfullscreen webkitallowfullscreen mozallowfullscreen></iframe></div></div>"
      ],
      "text/plain": [
       "<folium.folium.Map at 0x7fa1b81655b0>"
      ]
     },
     "execution_count": 2,
     "metadata": {},
     "output_type": "execute_result"
    }
   ],
   "source": [
    "utils.show_gdf(aoi.bbox_gdf)"
   ]
  },
  {
   "cell_type": "code",
   "execution_count": 3,
   "id": "6476e8ae",
   "metadata": {},
   "outputs": [
    {
     "name": "stderr",
     "output_type": "stream",
     "text": [
      "/home/dan/miniconda3/envs/pymagery_dev/lib/python3.8/site-packages/pyproj/crs/crs.py:53: FutureWarning: '+init=<authority>:<code>' syntax is deprecated. '<authority>:<code>' is the preferred initialization method. When making the change, be mindful of axis order changes: https://pyproj4.github.io/pyproj/stable/gotchas.html#axis-order-changes-in-proj-6\n",
      "  return _prepare_from_string(\" \".join(pjargs))\n",
      "<ipython-input-3-0e470fd15b4d>:11: UserWarning: Geometry is in a geographic CRS. Results from 'area' are likely incorrect. Use 'GeoSeries.to_crs()' to re-project geometries to a projected CRS before this operation.\n",
      "\n",
      "  products_gdf['intersect'] = products_gdf.geometry.intersection(aoi.bbox).area\n"
     ]
    },
    {
     "data": {
      "text/html": [
       "<div>\n",
       "<style scoped>\n",
       "    .dataframe tbody tr th:only-of-type {\n",
       "        vertical-align: middle;\n",
       "    }\n",
       "\n",
       "    .dataframe tbody tr th {\n",
       "        vertical-align: top;\n",
       "    }\n",
       "\n",
       "    .dataframe thead th {\n",
       "        text-align: right;\n",
       "    }\n",
       "</style>\n",
       "<table border=\"1\" class=\"dataframe\">\n",
       "  <thead>\n",
       "    <tr style=\"text-align: right;\">\n",
       "      <th></th>\n",
       "      <th>title</th>\n",
       "      <th>link</th>\n",
       "      <th>link_alternative</th>\n",
       "      <th>link_icon</th>\n",
       "      <th>summary</th>\n",
       "      <th>ondemand</th>\n",
       "      <th>beginposition</th>\n",
       "      <th>endposition</th>\n",
       "      <th>ingestiondate</th>\n",
       "      <th>generationdate</th>\n",
       "      <th>...</th>\n",
       "      <th>platformidentifier</th>\n",
       "      <th>orbitdirection</th>\n",
       "      <th>platformserialidentifier</th>\n",
       "      <th>processinglevel</th>\n",
       "      <th>identifier</th>\n",
       "      <th>datastripidentifier</th>\n",
       "      <th>granuleidentifier</th>\n",
       "      <th>uuid</th>\n",
       "      <th>geometry</th>\n",
       "      <th>intersect</th>\n",
       "    </tr>\n",
       "  </thead>\n",
       "  <tbody>\n",
       "    <tr>\n",
       "      <th>39078ffd-1ffa-45ed-b3ed-90d3bb8b5f74</th>\n",
       "      <td>S2B_MSIL2A_20190826T185919_N0213_R013_T10UFU_2...</td>\n",
       "      <td>https://scihub.copernicus.eu/dhus/odata/v1/Pro...</td>\n",
       "      <td>https://scihub.copernicus.eu/dhus/odata/v1/Pro...</td>\n",
       "      <td>https://scihub.copernicus.eu/dhus/odata/v1/Pro...</td>\n",
       "      <td>Date: 2019-08-26T18:59:19.024Z, Instrument: MS...</td>\n",
       "      <td>false</td>\n",
       "      <td>2019-08-26 18:59:19.024</td>\n",
       "      <td>2019-08-26 18:59:19.024</td>\n",
       "      <td>2019-08-27 04:54:37.303</td>\n",
       "      <td>NaT</td>\n",
       "      <td>...</td>\n",
       "      <td>2017-013A</td>\n",
       "      <td>DESCENDING</td>\n",
       "      <td>Sentinel-2B</td>\n",
       "      <td>Level-2A</td>\n",
       "      <td>S2B_MSIL2A_20190826T185919_N0213_R013_T10UFU_2...</td>\n",
       "      <td>NaN</td>\n",
       "      <td>NaN</td>\n",
       "      <td>39078ffd-1ffa-45ed-b3ed-90d3bb8b5f74</td>\n",
       "      <td>MULTIPOLYGON (((-120.20190 47.73104, -120.1882...</td>\n",
       "      <td>0.02</td>\n",
       "    </tr>\n",
       "    <tr>\n",
       "      <th>464ff23b-65f2-472d-9268-aa2e69a40f7f</th>\n",
       "      <td>S2A_MSIL2A_20200729T190921_N0214_R056_T10UFU_2...</td>\n",
       "      <td>https://scihub.copernicus.eu/dhus/odata/v1/Pro...</td>\n",
       "      <td>https://scihub.copernicus.eu/dhus/odata/v1/Pro...</td>\n",
       "      <td>https://scihub.copernicus.eu/dhus/odata/v1/Pro...</td>\n",
       "      <td>Date: 2020-07-29T19:09:21.024Z, Instrument: MS...</td>\n",
       "      <td>false</td>\n",
       "      <td>2020-07-29 19:09:21.024</td>\n",
       "      <td>2020-07-29 19:09:21.024</td>\n",
       "      <td>2020-07-30 02:45:46.029</td>\n",
       "      <td>NaT</td>\n",
       "      <td>...</td>\n",
       "      <td>2015-028A</td>\n",
       "      <td>DESCENDING</td>\n",
       "      <td>Sentinel-2A</td>\n",
       "      <td>Level-2A</td>\n",
       "      <td>S2A_MSIL2A_20200729T190921_N0214_R056_T10UFU_2...</td>\n",
       "      <td>NaN</td>\n",
       "      <td>NaN</td>\n",
       "      <td>464ff23b-65f2-472d-9268-aa2e69a40f7f</td>\n",
       "      <td>MULTIPOLYGON (((-121.27773 47.75042, -121.2349...</td>\n",
       "      <td>0.02</td>\n",
       "    </tr>\n",
       "  </tbody>\n",
       "</table>\n",
       "<p>2 rows × 42 columns</p>\n",
       "</div>"
      ],
      "text/plain": [
       "                                                                                  title  \\\n",
       "39078ffd-1ffa-45ed-b3ed-90d3bb8b5f74  S2B_MSIL2A_20190826T185919_N0213_R013_T10UFU_2...   \n",
       "464ff23b-65f2-472d-9268-aa2e69a40f7f  S2A_MSIL2A_20200729T190921_N0214_R056_T10UFU_2...   \n",
       "\n",
       "                                                                                   link  \\\n",
       "39078ffd-1ffa-45ed-b3ed-90d3bb8b5f74  https://scihub.copernicus.eu/dhus/odata/v1/Pro...   \n",
       "464ff23b-65f2-472d-9268-aa2e69a40f7f  https://scihub.copernicus.eu/dhus/odata/v1/Pro...   \n",
       "\n",
       "                                                                       link_alternative  \\\n",
       "39078ffd-1ffa-45ed-b3ed-90d3bb8b5f74  https://scihub.copernicus.eu/dhus/odata/v1/Pro...   \n",
       "464ff23b-65f2-472d-9268-aa2e69a40f7f  https://scihub.copernicus.eu/dhus/odata/v1/Pro...   \n",
       "\n",
       "                                                                              link_icon  \\\n",
       "39078ffd-1ffa-45ed-b3ed-90d3bb8b5f74  https://scihub.copernicus.eu/dhus/odata/v1/Pro...   \n",
       "464ff23b-65f2-472d-9268-aa2e69a40f7f  https://scihub.copernicus.eu/dhus/odata/v1/Pro...   \n",
       "\n",
       "                                                                                summary  \\\n",
       "39078ffd-1ffa-45ed-b3ed-90d3bb8b5f74  Date: 2019-08-26T18:59:19.024Z, Instrument: MS...   \n",
       "464ff23b-65f2-472d-9268-aa2e69a40f7f  Date: 2020-07-29T19:09:21.024Z, Instrument: MS...   \n",
       "\n",
       "                                     ondemand           beginposition  \\\n",
       "39078ffd-1ffa-45ed-b3ed-90d3bb8b5f74    false 2019-08-26 18:59:19.024   \n",
       "464ff23b-65f2-472d-9268-aa2e69a40f7f    false 2020-07-29 19:09:21.024   \n",
       "\n",
       "                                                 endposition  \\\n",
       "39078ffd-1ffa-45ed-b3ed-90d3bb8b5f74 2019-08-26 18:59:19.024   \n",
       "464ff23b-65f2-472d-9268-aa2e69a40f7f 2020-07-29 19:09:21.024   \n",
       "\n",
       "                                               ingestiondate generationdate  \\\n",
       "39078ffd-1ffa-45ed-b3ed-90d3bb8b5f74 2019-08-27 04:54:37.303            NaT   \n",
       "464ff23b-65f2-472d-9268-aa2e69a40f7f 2020-07-30 02:45:46.029            NaT   \n",
       "\n",
       "                                      ...  platformidentifier  orbitdirection  \\\n",
       "39078ffd-1ffa-45ed-b3ed-90d3bb8b5f74  ...           2017-013A      DESCENDING   \n",
       "464ff23b-65f2-472d-9268-aa2e69a40f7f  ...           2015-028A      DESCENDING   \n",
       "\n",
       "                                      platformserialidentifier  \\\n",
       "39078ffd-1ffa-45ed-b3ed-90d3bb8b5f74               Sentinel-2B   \n",
       "464ff23b-65f2-472d-9268-aa2e69a40f7f               Sentinel-2A   \n",
       "\n",
       "                                      processinglevel  \\\n",
       "39078ffd-1ffa-45ed-b3ed-90d3bb8b5f74         Level-2A   \n",
       "464ff23b-65f2-472d-9268-aa2e69a40f7f         Level-2A   \n",
       "\n",
       "                                                                             identifier  \\\n",
       "39078ffd-1ffa-45ed-b3ed-90d3bb8b5f74  S2B_MSIL2A_20190826T185919_N0213_R013_T10UFU_2...   \n",
       "464ff23b-65f2-472d-9268-aa2e69a40f7f  S2A_MSIL2A_20200729T190921_N0214_R056_T10UFU_2...   \n",
       "\n",
       "                                      datastripidentifier  granuleidentifier  \\\n",
       "39078ffd-1ffa-45ed-b3ed-90d3bb8b5f74                  NaN                NaN   \n",
       "464ff23b-65f2-472d-9268-aa2e69a40f7f                  NaN                NaN   \n",
       "\n",
       "                                                                      uuid  \\\n",
       "39078ffd-1ffa-45ed-b3ed-90d3bb8b5f74  39078ffd-1ffa-45ed-b3ed-90d3bb8b5f74   \n",
       "464ff23b-65f2-472d-9268-aa2e69a40f7f  464ff23b-65f2-472d-9268-aa2e69a40f7f   \n",
       "\n",
       "                                                                               geometry  \\\n",
       "39078ffd-1ffa-45ed-b3ed-90d3bb8b5f74  MULTIPOLYGON (((-120.20190 47.73104, -120.1882...   \n",
       "464ff23b-65f2-472d-9268-aa2e69a40f7f  MULTIPOLYGON (((-121.27773 47.75042, -121.2349...   \n",
       "\n",
       "                                      intersect  \n",
       "39078ffd-1ffa-45ed-b3ed-90d3bb8b5f74       0.02  \n",
       "464ff23b-65f2-472d-9268-aa2e69a40f7f       0.02  \n",
       "\n",
       "[2 rows x 42 columns]"
      ]
     },
     "execution_count": 3,
     "metadata": {},
     "output_type": "execute_result"
    }
   ],
   "source": [
    "# query for available sentinel imagery\n",
    "products = api.query(aoi.bbox_gdf.geometry[0],\n",
    "                     date = ('20190601', '20210626'),\n",
    "                     platformname = 'Sentinel-2',\n",
    "                     processinglevel = 'Level-2A',\n",
    "                     cloudcoverpercentage = (0,1)\n",
    "                    )\n",
    "products_gdf = api.to_geodataframe(products)\n",
    "\n",
    "# look for data with complete coverage for the AOI \n",
    "products_gdf['intersect'] = products_gdf.geometry.intersection(aoi.bbox).area\n",
    "complete_cov = products_gdf[products_gdf['intersect'] == np.max(products_gdf['intersect'])]\n",
    "complete_cov = complete_cov.sort_values(['cloudcoverpercentage'], ascending=True)\n",
    "complete_cov.head(2)"
   ]
  },
  {
   "cell_type": "code",
   "execution_count": 4,
   "id": "d97f4148",
   "metadata": {},
   "outputs": [
    {
     "name": "stderr",
     "output_type": "stream",
     "text": [
      "/home/dan/Documents/pymagery/pymagery/utils.py:29: UserWarning: Geometry is in a geographic CRS. Results from 'centroid' are likely incorrect. Use 'GeoSeries.to_crs()' to re-project geometries to a projected CRS before this operation.\n",
      "\n",
      "  center = gdf.to_crs('epsg:4326').geometry.centroid.unary_union.centroid\n"
     ]
    },
    {
     "data": {
      "text/html": [
       "<div style=\"width:100%;\"><div style=\"position:relative;width:100%;height:0;padding-bottom:60%;\"><span style=\"color:#565656\">Make this Notebook Trusted to load map: File -> Trust Notebook</span><iframe src=\"about:blank\" style=\"position:absolute;width:100%;height:100%;left:0;top:0;border:none !important;\" data-html=%3C%21DOCTYPE%20html%3E%0A%3Chead%3E%20%20%20%20%0A%20%20%20%20%3Cmeta%20http-equiv%3D%22content-type%22%20content%3D%22text/html%3B%20charset%3DUTF-8%22%20/%3E%0A%20%20%20%20%0A%20%20%20%20%20%20%20%20%3Cscript%3E%0A%20%20%20%20%20%20%20%20%20%20%20%20L_NO_TOUCH%20%3D%20false%3B%0A%20%20%20%20%20%20%20%20%20%20%20%20L_DISABLE_3D%20%3D%20false%3B%0A%20%20%20%20%20%20%20%20%3C/script%3E%0A%20%20%20%20%0A%20%20%20%20%3Cstyle%3Ehtml%2C%20body%20%7Bwidth%3A%20100%25%3Bheight%3A%20100%25%3Bmargin%3A%200%3Bpadding%3A%200%3B%7D%3C/style%3E%0A%20%20%20%20%3Cstyle%3E%23map%20%7Bposition%3Aabsolute%3Btop%3A0%3Bbottom%3A0%3Bright%3A0%3Bleft%3A0%3B%7D%3C/style%3E%0A%20%20%20%20%3Cscript%20src%3D%22https%3A//cdn.jsdelivr.net/npm/leaflet%401.6.0/dist/leaflet.js%22%3E%3C/script%3E%0A%20%20%20%20%3Cscript%20src%3D%22https%3A//code.jquery.com/jquery-1.12.4.min.js%22%3E%3C/script%3E%0A%20%20%20%20%3Cscript%20src%3D%22https%3A//maxcdn.bootstrapcdn.com/bootstrap/3.2.0/js/bootstrap.min.js%22%3E%3C/script%3E%0A%20%20%20%20%3Cscript%20src%3D%22https%3A//cdnjs.cloudflare.com/ajax/libs/Leaflet.awesome-markers/2.0.2/leaflet.awesome-markers.js%22%3E%3C/script%3E%0A%20%20%20%20%3Clink%20rel%3D%22stylesheet%22%20href%3D%22https%3A//cdn.jsdelivr.net/npm/leaflet%401.6.0/dist/leaflet.css%22/%3E%0A%20%20%20%20%3Clink%20rel%3D%22stylesheet%22%20href%3D%22https%3A//maxcdn.bootstrapcdn.com/bootstrap/3.2.0/css/bootstrap.min.css%22/%3E%0A%20%20%20%20%3Clink%20rel%3D%22stylesheet%22%20href%3D%22https%3A//maxcdn.bootstrapcdn.com/bootstrap/3.2.0/css/bootstrap-theme.min.css%22/%3E%0A%20%20%20%20%3Clink%20rel%3D%22stylesheet%22%20href%3D%22https%3A//maxcdn.bootstrapcdn.com/font-awesome/4.6.3/css/font-awesome.min.css%22/%3E%0A%20%20%20%20%3Clink%20rel%3D%22stylesheet%22%20href%3D%22https%3A//cdnjs.cloudflare.com/ajax/libs/Leaflet.awesome-markers/2.0.2/leaflet.awesome-markers.css%22/%3E%0A%20%20%20%20%3Clink%20rel%3D%22stylesheet%22%20href%3D%22https%3A//cdn.jsdelivr.net/gh/python-visualization/folium/folium/templates/leaflet.awesome.rotate.min.css%22/%3E%0A%20%20%20%20%0A%20%20%20%20%20%20%20%20%20%20%20%20%3Cmeta%20name%3D%22viewport%22%20content%3D%22width%3Ddevice-width%2C%0A%20%20%20%20%20%20%20%20%20%20%20%20%20%20%20%20initial-scale%3D1.0%2C%20maximum-scale%3D1.0%2C%20user-scalable%3Dno%22%20/%3E%0A%20%20%20%20%20%20%20%20%20%20%20%20%3Cstyle%3E%0A%20%20%20%20%20%20%20%20%20%20%20%20%20%20%20%20%23map_fda321979f1d4578b7c62f1853881091%20%7B%0A%20%20%20%20%20%20%20%20%20%20%20%20%20%20%20%20%20%20%20%20position%3A%20relative%3B%0A%20%20%20%20%20%20%20%20%20%20%20%20%20%20%20%20%20%20%20%20width%3A%20100.0%25%3B%0A%20%20%20%20%20%20%20%20%20%20%20%20%20%20%20%20%20%20%20%20height%3A%20100.0%25%3B%0A%20%20%20%20%20%20%20%20%20%20%20%20%20%20%20%20%20%20%20%20left%3A%200.0%25%3B%0A%20%20%20%20%20%20%20%20%20%20%20%20%20%20%20%20%20%20%20%20top%3A%200.0%25%3B%0A%20%20%20%20%20%20%20%20%20%20%20%20%20%20%20%20%7D%0A%20%20%20%20%20%20%20%20%20%20%20%20%3C/style%3E%0A%20%20%20%20%20%20%20%20%0A%3C/head%3E%0A%3Cbody%3E%20%20%20%20%0A%20%20%20%20%0A%20%20%20%20%20%20%20%20%20%20%20%20%3Cdiv%20class%3D%22folium-map%22%20id%3D%22map_fda321979f1d4578b7c62f1853881091%22%20%3E%3C/div%3E%0A%20%20%20%20%20%20%20%20%0A%3C/body%3E%0A%3Cscript%3E%20%20%20%20%0A%20%20%20%20%0A%20%20%20%20%20%20%20%20%20%20%20%20var%20map_fda321979f1d4578b7c62f1853881091%20%3D%20L.map%28%0A%20%20%20%20%20%20%20%20%20%20%20%20%20%20%20%20%22map_fda321979f1d4578b7c62f1853881091%22%2C%0A%20%20%20%20%20%20%20%20%20%20%20%20%20%20%20%20%7B%0A%20%20%20%20%20%20%20%20%20%20%20%20%20%20%20%20%20%20%20%20center%3A%20%5B47.93698452703686%2C%20-121.00420865717541%5D%2C%0A%20%20%20%20%20%20%20%20%20%20%20%20%20%20%20%20%20%20%20%20crs%3A%20L.CRS.EPSG3857%2C%0A%20%20%20%20%20%20%20%20%20%20%20%20%20%20%20%20%20%20%20%20zoom%3A%2012%2C%0A%20%20%20%20%20%20%20%20%20%20%20%20%20%20%20%20%20%20%20%20zoomControl%3A%20true%2C%0A%20%20%20%20%20%20%20%20%20%20%20%20%20%20%20%20%20%20%20%20preferCanvas%3A%20false%2C%0A%20%20%20%20%20%20%20%20%20%20%20%20%20%20%20%20%7D%0A%20%20%20%20%20%20%20%20%20%20%20%20%29%3B%0A%0A%20%20%20%20%20%20%20%20%20%20%20%20%0A%0A%20%20%20%20%20%20%20%20%0A%20%20%20%20%0A%20%20%20%20%20%20%20%20%20%20%20%20var%20tile_layer_bc7834dff1544fa1927b6f6d7d5c2d5a%20%3D%20L.tileLayer%28%0A%20%20%20%20%20%20%20%20%20%20%20%20%20%20%20%20%22https%3A//server.arcgisonline.com/ArcGIS/rest/services/World_Imagery/MapServer/tile/%7Bz%7D/%7By%7D/%7Bx%7D%22%2C%0A%20%20%20%20%20%20%20%20%20%20%20%20%20%20%20%20%7B%22attribution%22%3A%20%5B%22Tiles%20%5Cu0026copy%3B%20Esri%20%5Cu0026mdash%3B%20Source%3A%20Esri%2C%20i-cubed%2C%20USDA%2C%20USGS%2C%20AEX%2C%20GeoEye%2C%20Getmapping%2C%20Aerogrid%2C%20IGN%2C%20IGP%2C%20UPR-EGP%2C%20and%20the%20GIS%20User%20Community%22%5D%2C%20%22detectRetina%22%3A%20false%2C%20%22maxNativeZoom%22%3A%2018%2C%20%22maxZoom%22%3A%2018%2C%20%22minZoom%22%3A%200%2C%20%22noWrap%22%3A%20false%2C%20%22opacity%22%3A%201%2C%20%22subdomains%22%3A%20%22abc%22%2C%20%22tms%22%3A%20false%7D%0A%20%20%20%20%20%20%20%20%20%20%20%20%29.addTo%28map_fda321979f1d4578b7c62f1853881091%29%3B%0A%20%20%20%20%20%20%20%20%0A%20%20%20%20%0A%20%20%20%20%20%20%20%20function%20geo_json_67976c1960be435ca02e87c81dd2d0a1_styler%28feature%29%20%7B%0A%20%20%20%20%20%20%20%20%20%20%20%20switch%28feature.id%29%20%7B%0A%20%20%20%20%20%20%20%20%20%20%20%20%20%20%20%20default%3A%0A%20%20%20%20%20%20%20%20%20%20%20%20%20%20%20%20%20%20%20%20return%20%7B%22color%22%3A%20%22k%22%2C%20%22fillColor%22%3A%20%22orange%22%2C%20%22fillOpacity%22%3A%20%22.2%22%2C%20%22opacity%22%3A%20%221%22%2C%20%22weight%22%3A%20%223%22%7D%3B%0A%20%20%20%20%20%20%20%20%20%20%20%20%7D%0A%20%20%20%20%20%20%20%20%7D%0A%0A%20%20%20%20%20%20%20%20function%20geo_json_67976c1960be435ca02e87c81dd2d0a1_onEachFeature%28feature%2C%20layer%29%20%7B%0A%20%20%20%20%20%20%20%20%20%20%20%20layer.on%28%7B%0A%20%20%20%20%20%20%20%20%20%20%20%20%7D%29%3B%0A%20%20%20%20%20%20%20%20%7D%3B%0A%20%20%20%20%20%20%20%20var%20geo_json_67976c1960be435ca02e87c81dd2d0a1%20%3D%20L.geoJson%28null%2C%20%7B%0A%20%20%20%20%20%20%20%20%20%20%20%20%20%20%20%20onEachFeature%3A%20geo_json_67976c1960be435ca02e87c81dd2d0a1_onEachFeature%2C%0A%20%20%20%20%20%20%20%20%20%20%20%20%0A%20%20%20%20%20%20%20%20%20%20%20%20%20%20%20%20style%3A%20geo_json_67976c1960be435ca02e87c81dd2d0a1_styler%2C%0A%20%20%20%20%20%20%20%20%7D%29%3B%0A%0A%20%20%20%20%20%20%20%20function%20geo_json_67976c1960be435ca02e87c81dd2d0a1_add%20%28data%29%20%7B%0A%20%20%20%20%20%20%20%20%20%20%20%20geo_json_67976c1960be435ca02e87c81dd2d0a1%0A%20%20%20%20%20%20%20%20%20%20%20%20%20%20%20%20.addData%28data%29%0A%20%20%20%20%20%20%20%20%20%20%20%20%20%20%20%20.addTo%28map_fda321979f1d4578b7c62f1853881091%29%3B%0A%20%20%20%20%20%20%20%20%7D%0A%20%20%20%20%20%20%20%20%20%20%20%20geo_json_67976c1960be435ca02e87c81dd2d0a1_add%28%7B%22bbox%22%3A%20%5B-121.665665%2C%2047.73104447774509%2C%20-120.18823%2C%2048.23892897406184%5D%2C%20%22features%22%3A%20%5B%7B%22bbox%22%3A%20%5B-121.665665%2C%2047.73104447774509%2C%20-120.18823%2C%2048.23892897406184%5D%2C%20%22geometry%22%3A%20%7B%22coordinates%22%3A%20%5B%5B%5B%5B-120.201904%2C%2047.73104447774509%5D%2C%20%5B-120.18823%2C%2047.979390887329295%5D%2C%20%5B-120.36131%2C%2048.01385422146242%5D%2C%20%5B-120.36127%2C%2048.01397162516398%5D%2C%20%5B-120.36565%2C%2048.014844954431126%5D%2C%20%5B-120.378204%2C%2048.01735029317682%5D%2C%20%5B-120.37874%2C%2048.0160729879727%5D%2C%20%5B-120.37898%2C%2048.0161204742946%5D%2C%20%5B-120.37932%2C%2048.01530462723372%5D%2C%20%5B-120.66998%2C%2048.07014446956463%5D%2C%20%5B-120.669754%2C%2048.0706730122656%5D%2C%20%5B-120.66977%2C%2048.070674088748%5D%2C%20%5B-120.6691%2C%2048.072311840140244%5D%2C%20%5B-120.6756%2C%2048.07347920713997%5D%2C%20%5B-120.68756%2C%2048.0757355661431%5D%2C%20%5B-120.68759%2C%2048.07563292541046%5D%2C%20%5B-120.997375%2C%2048.131220994918806%5D%2C%20%5B-120.99745%2C%2048.131006178990475%5D%2C%20%5B-120.997574%2C%2048.13102556895592%5D%2C%20%5B-120.99779%2C%2048.13049965094828%5D%2C%20%5B-120.99782%2C%2048.13050670015476%5D%2C%20%5B-120.99805%2C%2048.12995657066464%5D%2C%20%5B-120.99849%2C%2048.13003380140493%5D%2C%20%5B-120.99852%2C%2048.12997940395051%5D%2C%20%5B-120.99852%2C%2048.12997982697552%5D%2C%20%5B-120.998535%2C%2048.129942731586006%5D%2C%20%5B-120.998566%2C%2048.12994802725397%5D%2C%20%5B-120.99864%2C%2048.12974997473881%5D%2C%20%5B-120.99869%2C%2048.129758008418825%5D%2C%20%5B-120.99873%2C%2048.129669396457274%5D%2C%20%5B-121.29268%2C%2048.18046819429745%5D%2C%20%5B-121.292435%2C%2048.181075809076674%5D%2C%20%5B-121.29257%2C%2048.18110090436475%5D%2C%20%5B-121.2921%2C%2048.1822949599619%5D%2C%20%5B-121.42848%2C%2048.204282852614405%5D%2C%20%5B-121.62862%2C%2048.23595044504757%5D%2C%20%5B-121.62866%2C%2048.23583100539901%5D%2C%20%5B-121.62866%2C%2048.235831226758805%5D%2C%20%5B-121.62868%2C%2048.23581865007304%5D%2C%20%5B-121.62897%2C%2048.235863083406905%5D%2C%20%5B-121.62901%2C%2048.23570962892856%5D%2C%20%5B-121.629105%2C%2048.23572339657376%5D%2C%20%5B-121.629196%2C%2048.23549444323557%5D%2C%20%5B-121.62938%2C%2048.23552362801352%5D%2C%20%5B-121.629425%2C%2048.23540236140296%5D%2C%20%5B-121.62956%2C%2048.23542302185931%5D%2C%20%5B-121.62959%2C%2048.23533720295404%5D%2C%20%5B-121.62976%2C%2048.23536331625616%5D%2C%20%5B-121.62979%2C%2048.23529502208135%5D%2C%20%5B-121.629974%2C%2048.23532352224464%5D%2C%20%5B-121.629974%2C%2048.235314115299005%5D%2C%20%5B-121.653015%2C%2048.23892897406184%5D%2C%20%5B-121.665665%2C%2047.75740973734738%5D%2C%20%5B-120.201904%2C%2047.73104447774509%5D%5D%5D%5D%2C%20%22type%22%3A%20%22MultiPolygon%22%7D%2C%20%22id%22%3A%20%2239078ffd-1ffa-45ed-b3ed-90d3bb8b5f74%22%2C%20%22properties%22%3A%20%7B%7D%2C%20%22type%22%3A%20%22Feature%22%7D%5D%2C%20%22type%22%3A%20%22FeatureCollection%22%7D%29%3B%0A%0A%20%20%20%20%20%20%20%20%0A%3C/script%3E onload=\"this.contentDocument.open();this.contentDocument.write(    decodeURIComponent(this.getAttribute('data-html')));this.contentDocument.close();\" allowfullscreen webkitallowfullscreen mozallowfullscreen></iframe></div></div>"
      ],
      "text/plain": [
       "<folium.folium.Map at 0x7fa1b8176190>"
      ]
     },
     "execution_count": 4,
     "metadata": {},
     "output_type": "execute_result"
    }
   ],
   "source": [
    "utils.show_gdf(complete_cov.iloc[:1][['geometry']])"
   ]
  },
  {
   "cell_type": "code",
   "execution_count": 5,
   "id": "7c091fc3",
   "metadata": {},
   "outputs": [
    {
     "data": {
      "text/plain": [
       "{'id': '2df07e81-0b73-40fa-87fd-f06836f29129',\n",
       " 'title': 'S2B_MSIL2A_20210417T185909_N0300_R013_T10TFT_20210417T230152',\n",
       " 'size': 1249476437,\n",
       " 'md5': 'b33e24a208cfe56c038c4d403854894d',\n",
       " 'date': datetime.datetime(2021, 4, 17, 18, 59, 9, 24000),\n",
       " 'footprint': 'POLYGON((-121.66341 47.84592105208886,-120.19716 47.81947440295927,-120.24892 46.83262831925138,-121.68811 46.85818197246455,-121.66341 47.84592105208886))',\n",
       " 'url': \"https://scihub.copernicus.eu/dhus/odata/v1/Products('2df07e81-0b73-40fa-87fd-f06836f29129')/$value\",\n",
       " 'Online': True,\n",
       " 'Creation Date': datetime.datetime(2021, 4, 18, 21, 46, 21, 292000),\n",
       " 'Ingestion Date': datetime.datetime(2021, 4, 18, 21, 46, 0, 882000),\n",
       " 'path': '/home/dan/Downloads/S2B_MSIL2A_20210417T185909_N0300_R013_T10TFT_20210417T230152.zip',\n",
       " 'downloaded_bytes': 0}"
      ]
     },
     "execution_count": 5,
     "metadata": {},
     "output_type": "execute_result"
    }
   ],
   "source": [
    "# download\n",
    "api.download(products_gdf.iloc[0]['uuid'], directory_path='/home/dan/Downloads/')"
   ]
  }
 ],
 "metadata": {
  "kernelspec": {
   "display_name": "Python [conda env:pymagery_dev]",
   "language": "python",
   "name": "conda-env-pymagery_dev-py"
  },
  "language_info": {
   "codemirror_mode": {
    "name": "ipython",
    "version": 3
   },
   "file_extension": ".py",
   "mimetype": "text/x-python",
   "name": "python",
   "nbconvert_exporter": "python",
   "pygments_lexer": "ipython3",
   "version": "3.8.6"
  }
 },
 "nbformat": 4,
 "nbformat_minor": 5
}

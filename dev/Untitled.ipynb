{
 "cells": [
  {
   "cell_type": "code",
   "execution_count": 1,
   "metadata": {},
   "outputs": [
    {
     "name": "stdout",
     "output_type": "stream",
     "text": [
      "init raster\n"
     ]
    }
   ],
   "source": [
    "from osgeo import gdal\n",
    "import affine\n",
    "import numpy as np\n",
    "import sys\n",
    "import os\n",
    "\n",
    "import context\n",
    "import pymagery\n",
    "\n",
    "import affine\n"
   ]
  },
  {
   "cell_type": "code",
   "execution_count": 2,
   "metadata": {},
   "outputs": [],
   "source": [
    "gdal.UseExceptions()\n",
    "\n",
    "raster_path = context.imagery_paths[0]\n",
    "src_ds = gdal.Open(raster_path )\n",
    "\n",
    "n_bands = src_ds.RasterCount\n",
    "\n",
    "src_band = src_ds.GetRasterBand(1)\n",
    "arr = src_band.ReadAsArray()\n"
   ]
  },
  {
   "cell_type": "code",
   "execution_count": 27,
   "metadata": {},
   "outputs": [
    {
     "data": {
      "text/plain": [
       "Band([[70., 46., 70., ..., 49., 49., 49.],\n",
       "      [51., 50., 73., ..., 53., 53., 53.],\n",
       "      [80., 78., 76., ..., 58., 58., 58.],\n",
       "      ...,\n",
       "      [40., 41., 42., ..., 46., 41., 36.],\n",
       "      [41., 42., 44., ..., 28., 25., 23.],\n",
       "      [43., 44., 46., ..., 10., 10., 10.]])"
      ]
     },
     "execution_count": 27,
     "metadata": {},
     "output_type": "execute_result"
    }
   ],
   "source": [
    "## test the Band class\n",
    "\n",
    "band = pymagery.Band(arr)\n",
    "# band[0, 0] = np.nan\n",
    "band"
   ]
  },
  {
   "cell_type": "code",
   "execution_count": null,
   "metadata": {},
   "outputs": [],
   "source": []
  },
  {
   "cell_type": "code",
   "execution_count": 26,
   "metadata": {},
   "outputs": [],
   "source": [
    "# interp\n",
    "interpd = band.interp()\n",
    "# preserve original?\n",
    "assert np.isnan(band[0, 0])\n",
    "# new value correct?\n",
    "neighbors = np.array([band[1, 0], band[0, 1], band[1, 1]])\n",
    "weights = np.array([1, 1, 1 / np.sqrt(2)])\n",
    "assert np.isclose(interpd[0, 0], np.sum(weights * neighbors) / np.sum(weights), rtol=1e-4)"
   ]
  },
  {
   "cell_type": "code",
   "execution_count": 9,
   "metadata": {},
   "outputs": [
    {
     "ename": "RuntimeError",
     "evalue": "No active exception to reraise",
     "output_type": "error",
     "traceback": [
      "\u001b[0;31m---------------------------------------------------------------------------\u001b[0m",
      "\u001b[0;31mRuntimeError\u001b[0m                              Traceback (most recent call last)",
      "\u001b[0;32m<ipython-input-9-9c9a2cba73bf>\u001b[0m in \u001b[0;36m<module>\u001b[0;34m()\u001b[0m\n\u001b[0;32m----> 1\u001b[0;31m \u001b[0;32mraise\u001b[0m\u001b[0;34m\u001b[0m\u001b[0;34m\u001b[0m\u001b[0m\n\u001b[0m",
      "\u001b[0;31mRuntimeError\u001b[0m: No active exception to reraise"
     ]
    }
   ],
   "source": [
    "raise"
   ]
  },
  {
   "cell_type": "code",
   "execution_count": null,
   "metadata": {},
   "outputs": [],
   "source": [
    "src_ds.GetProjectionRef()\n"
   ]
  },
  {
   "cell_type": "code",
   "execution_count": null,
   "metadata": {},
   "outputs": [],
   "source": [
    "c, a, b, f, d, e = src_ds.GetGeoTransform()"
   ]
  },
  {
   "cell_type": "code",
   "execution_count": null,
   "metadata": {},
   "outputs": [],
   "source": [
    "crs = 'epsg:26911'\n",
    "aff = np.array([1])\n",
    "bands = np.zeros([3, 5, 6])\n",
    "raster = pymagery.Raster()\n",
    "sb = pymagery.SingleBand()\n",
    "mb = pymagery.MultiBand()"
   ]
  },
  {
   "cell_type": "code",
   "execution_count": null,
   "metadata": {},
   "outputs": [],
   "source": [
    "sb = pymagery.Raster.from_path(context.dem_paths[0])\n",
    "sb.plot()"
   ]
  },
  {
   "cell_type": "code",
   "execution_count": null,
   "metadata": {},
   "outputs": [],
   "source": [
    "import rasterio"
   ]
  },
  {
   "cell_type": "code",
   "execution_count": null,
   "metadata": {},
   "outputs": [],
   "source": [
    "raise"
   ]
  },
  {
   "cell_type": "code",
   "execution_count": null,
   "metadata": {},
   "outputs": [],
   "source": [
    "mb = pymagery.Raster.from_path(context.imagery_paths[3])\n",
    "mb"
   ]
  },
  {
   "cell_type": "code",
   "execution_count": null,
   "metadata": {},
   "outputs": [],
   "source": [
    "path = context.imagery_paths[3]"
   ]
  },
  {
   "cell_type": "code",
   "execution_count": null,
   "metadata": {},
   "outputs": [],
   "source": [
    "mb.bands"
   ]
  },
  {
   "cell_type": "code",
   "execution_count": null,
   "metadata": {},
   "outputs": [],
   "source": [
    "src_ds.RasterCount"
   ]
  },
  {
   "cell_type": "code",
   "execution_count": null,
   "metadata": {},
   "outputs": [],
   "source": [
    "src_ds.GetProjection()"
   ]
  },
  {
   "cell_type": "code",
   "execution_count": null,
   "metadata": {},
   "outputs": [],
   "source": [
    "\n",
    "bands = src_ds.ReadAsArray()"
   ]
  },
  {
   "cell_type": "code",
   "execution_count": null,
   "metadata": {},
   "outputs": [],
   "source": [
    "import rasterio as rio"
   ]
  },
  {
   "cell_type": "code",
   "execution_count": null,
   "metadata": {},
   "outputs": [],
   "source": [
    "rio_raster = rio.open(path)\n",
    "raster = rio_raster.read_masks()"
   ]
  },
  {
   "cell_type": "code",
   "execution_count": null,
   "metadata": {},
   "outputs": [],
   "source": [
    "raster = rio_raster.read_transform"
   ]
  },
  {
   "cell_type": "code",
   "execution_count": null,
   "metadata": {},
   "outputs": [],
   "source": [
    "bands = rio_raster.read()\n",
    "n_bands, N, M = bands.shape\n",
    "im = np.stack(bands[:3], axis=2)"
   ]
  },
  {
   "cell_type": "code",
   "execution_count": null,
   "metadata": {},
   "outputs": [],
   "source": [
    "import matplotlib.pyplot as plt\n",
    "plt.imshow(im)"
   ]
  },
  {
   "cell_type": "code",
   "execution_count": null,
   "metadata": {},
   "outputs": [],
   "source": [
    "d = {'a': 1, 'b': 2}\n",
    "vals = d.values()"
   ]
  },
  {
   "cell_type": "code",
   "execution_count": null,
   "metadata": {},
   "outputs": [],
   "source": [
    "list(vals)[0]"
   ]
  },
  {
   "cell_type": "code",
   "execution_count": null,
   "metadata": {},
   "outputs": [],
   "source": [
    "import numpy as np\n",
    "class Bands(dict):\n",
    "    \n",
    "    def __getitem__(self, i):\n",
    "        if type(i) in (int, np.int64):\n",
    "            return list(self.values())[i]\n",
    "        if type(i) is slice:\n",
    "            sl = i\n",
    "            print(sl)\n",
    "            idx = np.arange(*(x for x in (sl.start, sl.stop, sl.step) if x))\n",
    "            print(idx)\n",
    "            return np.array([self[i] for i in idx if i < len(self)])\n",
    "        print(i, type(i))\n",
    "        return super().__getitem__(i)"
   ]
  },
  {
   "cell_type": "code",
   "execution_count": null,
   "metadata": {},
   "outputs": [],
   "source": [
    "bands = Bands({'a': 1, 'b': 2, 'c': 3})\n",
    "bands['a'], bands[0], bands[1], bands['b'],"
   ]
  },
  {
   "cell_type": "code",
   "execution_count": null,
   "metadata": {},
   "outputs": [],
   "source": [
    "bands[:4]"
   ]
  },
  {
   "cell_type": "code",
   "execution_count": null,
   "metadata": {},
   "outputs": [],
   "source": [
    "sl = slice(0, 3)\n",
    "np.arange(sl.start, sl.stop, sl.step)"
   ]
  },
  {
   "cell_type": "code",
   "execution_count": null,
   "metadata": {},
   "outputs": [],
   "source": []
  },
  {
   "cell_type": "markdown",
   "metadata": {},
   "source": [
    "## thinking about Bands class\n",
    "\n",
    "# can you just define __next__?"
   ]
  },
  {
   "cell_type": "markdown",
   "metadata": {},
   "source": [
    "## need to figure out how to do super().bands.setter\n",
    "\n",
    "then fix fill_na, fill_neg, >> hs"
   ]
  },
  {
   "cell_type": "code",
   "execution_count": null,
   "metadata": {},
   "outputs": [],
   "source": []
  }
 ],
 "metadata": {
  "kernelspec": {
   "display_name": "Python [conda env:geo_env]",
   "language": "python",
   "name": "conda-env-geo_env-py"
  },
  "language_info": {
   "codemirror_mode": {
    "name": "ipython",
    "version": 3
   },
   "file_extension": ".py",
   "mimetype": "text/x-python",
   "name": "python",
   "nbconvert_exporter": "python",
   "pygments_lexer": "ipython3",
   "version": "3.7.8"
  }
 },
 "nbformat": 4,
 "nbformat_minor": 4
}
